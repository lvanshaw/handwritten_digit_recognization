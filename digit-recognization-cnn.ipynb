{
 "cells": [
  {
   "cell_type": "code",
   "execution_count": 1,
   "metadata": {
    "_cell_guid": "b1076dfc-b9ad-4769-8c92-a6c4dae69d19",
    "_uuid": "8f2839f25d086af736a60e9eeb907d3b93b6e0e5",
    "execution": {
     "iopub.execute_input": "2023-09-18T16:59:03.617338Z",
     "iopub.status.busy": "2023-09-18T16:59:03.617025Z",
     "iopub.status.idle": "2023-09-18T16:59:03.976302Z",
     "shell.execute_reply": "2023-09-18T16:59:03.975317Z",
     "shell.execute_reply.started": "2023-09-18T16:59:03.617310Z"
    }
   },
   "outputs": [],
   "source": [
    "import numpy as np # linear algebra\n",
    "import pandas as pd # data processing, CSV file I/O (e.g. pd.read_csv)\n",
    "\n",
    "import os\n",
    "for dirname, _, filenames in os.walk('./Mini'):\n",
    "    for filename in filenames:\n",
    "        print(os.path.join(dirname, filename))"
   ]
  },
  {
   "cell_type": "code",
   "execution_count": 2,
   "metadata": {
    "execution": {
     "iopub.execute_input": "2023-09-18T16:59:06.973973Z",
     "iopub.status.busy": "2023-09-18T16:59:06.973397Z",
     "iopub.status.idle": "2023-09-18T16:59:16.221547Z",
     "shell.execute_reply": "2023-09-18T16:59:16.220514Z",
     "shell.execute_reply.started": "2023-09-18T16:59:06.973927Z"
    }
   },
   "outputs": [
    {
     "name": "stderr",
     "output_type": "stream",
     "text": [
      "C:\\ProgramData\\Anaconda3\\lib\\site-packages\\scipy\\__init__.py:146: UserWarning: A NumPy version >=1.16.5 and <1.23.0 is required for this version of SciPy (detected version 1.24.3\n",
      "  warnings.warn(f\"A NumPy version >={np_minversion} and <{np_maxversion}\"\n"
     ]
    }
   ],
   "source": [
    "import matplotlib.pyplot as plt\n",
    "%matplotlib inline\n",
    "import seaborn as sns\n",
    "\n",
    "from sklearn.model_selection import train_test_split\n",
    "\n",
    "\n",
    "import tensorflow as tf\n",
    "from tensorflow import keras\n",
    "from tensorflow.keras import layers"
   ]
  },
  {
   "cell_type": "markdown",
   "metadata": {},
   "source": [
    "# Loading Data"
   ]
  },
  {
   "cell_type": "code",
   "execution_count": 3,
   "metadata": {
    "execution": {
     "iopub.execute_input": "2023-09-18T16:59:22.219572Z",
     "iopub.status.busy": "2023-09-18T16:59:22.218896Z",
     "iopub.status.idle": "2023-09-18T16:59:26.307498Z",
     "shell.execute_reply": "2023-09-18T16:59:26.306519Z",
     "shell.execute_reply.started": "2023-09-18T16:59:22.219539Z"
    }
   },
   "outputs": [
    {
     "data": {
      "text/plain": [
       "(42000, 785)"
      ]
     },
     "execution_count": 3,
     "metadata": {},
     "output_type": "execute_result"
    }
   ],
   "source": [
    "train_data = pd.read_csv(\"C:\\\\Users\\\\II-Year\\\\Desktop\\\\Mini\\\\train.csv\")\n",
    "train_data.shape"
   ]
  },
  {
   "cell_type": "code",
   "execution_count": 4,
   "metadata": {
    "execution": {
     "iopub.execute_input": "2023-09-18T16:59:26.310446Z",
     "iopub.status.busy": "2023-09-18T16:59:26.309456Z",
     "iopub.status.idle": "2023-09-18T16:59:28.457550Z",
     "shell.execute_reply": "2023-09-18T16:59:28.456556Z",
     "shell.execute_reply.started": "2023-09-18T16:59:26.310409Z"
    }
   },
   "outputs": [
    {
     "data": {
      "text/plain": [
       "(28000, 784)"
      ]
     },
     "execution_count": 4,
     "metadata": {},
     "output_type": "execute_result"
    }
   ],
   "source": [
    "test_data = pd.read_csv(\"C:\\\\Users\\\\II-Year\\\\Desktop\\\\Mini\\\\test.csv\")\n",
    "test_data.shape"
   ]
  },
  {
   "cell_type": "code",
   "execution_count": 5,
   "metadata": {
    "execution": {
     "iopub.execute_input": "2023-09-18T16:59:28.459674Z",
     "iopub.status.busy": "2023-09-18T16:59:28.459269Z",
     "iopub.status.idle": "2023-09-18T16:59:28.487486Z",
     "shell.execute_reply": "2023-09-18T16:59:28.486595Z",
     "shell.execute_reply.started": "2023-09-18T16:59:28.459641Z"
    }
   },
   "outputs": [
    {
     "data": {
      "text/html": [
       "<div>\n",
       "<style scoped>\n",
       "    .dataframe tbody tr th:only-of-type {\n",
       "        vertical-align: middle;\n",
       "    }\n",
       "\n",
       "    .dataframe tbody tr th {\n",
       "        vertical-align: top;\n",
       "    }\n",
       "\n",
       "    .dataframe thead th {\n",
       "        text-align: right;\n",
       "    }\n",
       "</style>\n",
       "<table border=\"1\" class=\"dataframe\">\n",
       "  <thead>\n",
       "    <tr style=\"text-align: right;\">\n",
       "      <th></th>\n",
       "      <th>label</th>\n",
       "      <th>pixel0</th>\n",
       "      <th>pixel1</th>\n",
       "      <th>pixel2</th>\n",
       "      <th>pixel3</th>\n",
       "      <th>pixel4</th>\n",
       "      <th>pixel5</th>\n",
       "      <th>pixel6</th>\n",
       "      <th>pixel7</th>\n",
       "      <th>pixel8</th>\n",
       "      <th>...</th>\n",
       "      <th>pixel774</th>\n",
       "      <th>pixel775</th>\n",
       "      <th>pixel776</th>\n",
       "      <th>pixel777</th>\n",
       "      <th>pixel778</th>\n",
       "      <th>pixel779</th>\n",
       "      <th>pixel780</th>\n",
       "      <th>pixel781</th>\n",
       "      <th>pixel782</th>\n",
       "      <th>pixel783</th>\n",
       "    </tr>\n",
       "  </thead>\n",
       "  <tbody>\n",
       "    <tr>\n",
       "      <th>0</th>\n",
       "      <td>1</td>\n",
       "      <td>0</td>\n",
       "      <td>0</td>\n",
       "      <td>0</td>\n",
       "      <td>0</td>\n",
       "      <td>0</td>\n",
       "      <td>0</td>\n",
       "      <td>0</td>\n",
       "      <td>0</td>\n",
       "      <td>0</td>\n",
       "      <td>...</td>\n",
       "      <td>0</td>\n",
       "      <td>0</td>\n",
       "      <td>0</td>\n",
       "      <td>0</td>\n",
       "      <td>0</td>\n",
       "      <td>0</td>\n",
       "      <td>0</td>\n",
       "      <td>0</td>\n",
       "      <td>0</td>\n",
       "      <td>0</td>\n",
       "    </tr>\n",
       "    <tr>\n",
       "      <th>1</th>\n",
       "      <td>0</td>\n",
       "      <td>0</td>\n",
       "      <td>0</td>\n",
       "      <td>0</td>\n",
       "      <td>0</td>\n",
       "      <td>0</td>\n",
       "      <td>0</td>\n",
       "      <td>0</td>\n",
       "      <td>0</td>\n",
       "      <td>0</td>\n",
       "      <td>...</td>\n",
       "      <td>0</td>\n",
       "      <td>0</td>\n",
       "      <td>0</td>\n",
       "      <td>0</td>\n",
       "      <td>0</td>\n",
       "      <td>0</td>\n",
       "      <td>0</td>\n",
       "      <td>0</td>\n",
       "      <td>0</td>\n",
       "      <td>0</td>\n",
       "    </tr>\n",
       "    <tr>\n",
       "      <th>2</th>\n",
       "      <td>1</td>\n",
       "      <td>0</td>\n",
       "      <td>0</td>\n",
       "      <td>0</td>\n",
       "      <td>0</td>\n",
       "      <td>0</td>\n",
       "      <td>0</td>\n",
       "      <td>0</td>\n",
       "      <td>0</td>\n",
       "      <td>0</td>\n",
       "      <td>...</td>\n",
       "      <td>0</td>\n",
       "      <td>0</td>\n",
       "      <td>0</td>\n",
       "      <td>0</td>\n",
       "      <td>0</td>\n",
       "      <td>0</td>\n",
       "      <td>0</td>\n",
       "      <td>0</td>\n",
       "      <td>0</td>\n",
       "      <td>0</td>\n",
       "    </tr>\n",
       "    <tr>\n",
       "      <th>3</th>\n",
       "      <td>4</td>\n",
       "      <td>0</td>\n",
       "      <td>0</td>\n",
       "      <td>0</td>\n",
       "      <td>0</td>\n",
       "      <td>0</td>\n",
       "      <td>0</td>\n",
       "      <td>0</td>\n",
       "      <td>0</td>\n",
       "      <td>0</td>\n",
       "      <td>...</td>\n",
       "      <td>0</td>\n",
       "      <td>0</td>\n",
       "      <td>0</td>\n",
       "      <td>0</td>\n",
       "      <td>0</td>\n",
       "      <td>0</td>\n",
       "      <td>0</td>\n",
       "      <td>0</td>\n",
       "      <td>0</td>\n",
       "      <td>0</td>\n",
       "    </tr>\n",
       "    <tr>\n",
       "      <th>4</th>\n",
       "      <td>0</td>\n",
       "      <td>0</td>\n",
       "      <td>0</td>\n",
       "      <td>0</td>\n",
       "      <td>0</td>\n",
       "      <td>0</td>\n",
       "      <td>0</td>\n",
       "      <td>0</td>\n",
       "      <td>0</td>\n",
       "      <td>0</td>\n",
       "      <td>...</td>\n",
       "      <td>0</td>\n",
       "      <td>0</td>\n",
       "      <td>0</td>\n",
       "      <td>0</td>\n",
       "      <td>0</td>\n",
       "      <td>0</td>\n",
       "      <td>0</td>\n",
       "      <td>0</td>\n",
       "      <td>0</td>\n",
       "      <td>0</td>\n",
       "    </tr>\n",
       "  </tbody>\n",
       "</table>\n",
       "<p>5 rows × 785 columns</p>\n",
       "</div>"
      ],
      "text/plain": [
       "   label  pixel0  pixel1  pixel2  pixel3  pixel4  pixel5  pixel6  pixel7  \\\n",
       "0      1       0       0       0       0       0       0       0       0   \n",
       "1      0       0       0       0       0       0       0       0       0   \n",
       "2      1       0       0       0       0       0       0       0       0   \n",
       "3      4       0       0       0       0       0       0       0       0   \n",
       "4      0       0       0       0       0       0       0       0       0   \n",
       "\n",
       "   pixel8  ...  pixel774  pixel775  pixel776  pixel777  pixel778  pixel779  \\\n",
       "0       0  ...         0         0         0         0         0         0   \n",
       "1       0  ...         0         0         0         0         0         0   \n",
       "2       0  ...         0         0         0         0         0         0   \n",
       "3       0  ...         0         0         0         0         0         0   \n",
       "4       0  ...         0         0         0         0         0         0   \n",
       "\n",
       "   pixel780  pixel781  pixel782  pixel783  \n",
       "0         0         0         0         0  \n",
       "1         0         0         0         0  \n",
       "2         0         0         0         0  \n",
       "3         0         0         0         0  \n",
       "4         0         0         0         0  \n",
       "\n",
       "[5 rows x 785 columns]"
      ]
     },
     "execution_count": 5,
     "metadata": {},
     "output_type": "execute_result"
    }
   ],
   "source": [
    "train_data.head()"
   ]
  },
  {
   "cell_type": "code",
   "execution_count": 6,
   "metadata": {
    "execution": {
     "iopub.execute_input": "2023-09-18T16:59:28.489918Z",
     "iopub.status.busy": "2023-09-18T16:59:28.489477Z",
     "iopub.status.idle": "2023-09-18T16:59:28.507817Z",
     "shell.execute_reply": "2023-09-18T16:59:28.506712Z",
     "shell.execute_reply.started": "2023-09-18T16:59:28.489884Z"
    }
   },
   "outputs": [
    {
     "data": {
      "text/html": [
       "<div>\n",
       "<style scoped>\n",
       "    .dataframe tbody tr th:only-of-type {\n",
       "        vertical-align: middle;\n",
       "    }\n",
       "\n",
       "    .dataframe tbody tr th {\n",
       "        vertical-align: top;\n",
       "    }\n",
       "\n",
       "    .dataframe thead th {\n",
       "        text-align: right;\n",
       "    }\n",
       "</style>\n",
       "<table border=\"1\" class=\"dataframe\">\n",
       "  <thead>\n",
       "    <tr style=\"text-align: right;\">\n",
       "      <th></th>\n",
       "      <th>pixel0</th>\n",
       "      <th>pixel1</th>\n",
       "      <th>pixel2</th>\n",
       "      <th>pixel3</th>\n",
       "      <th>pixel4</th>\n",
       "      <th>pixel5</th>\n",
       "      <th>pixel6</th>\n",
       "      <th>pixel7</th>\n",
       "      <th>pixel8</th>\n",
       "      <th>pixel9</th>\n",
       "      <th>...</th>\n",
       "      <th>pixel774</th>\n",
       "      <th>pixel775</th>\n",
       "      <th>pixel776</th>\n",
       "      <th>pixel777</th>\n",
       "      <th>pixel778</th>\n",
       "      <th>pixel779</th>\n",
       "      <th>pixel780</th>\n",
       "      <th>pixel781</th>\n",
       "      <th>pixel782</th>\n",
       "      <th>pixel783</th>\n",
       "    </tr>\n",
       "  </thead>\n",
       "  <tbody>\n",
       "    <tr>\n",
       "      <th>0</th>\n",
       "      <td>0</td>\n",
       "      <td>0</td>\n",
       "      <td>0</td>\n",
       "      <td>0</td>\n",
       "      <td>0</td>\n",
       "      <td>0</td>\n",
       "      <td>0</td>\n",
       "      <td>0</td>\n",
       "      <td>0</td>\n",
       "      <td>0</td>\n",
       "      <td>...</td>\n",
       "      <td>0</td>\n",
       "      <td>0</td>\n",
       "      <td>0</td>\n",
       "      <td>0</td>\n",
       "      <td>0</td>\n",
       "      <td>0</td>\n",
       "      <td>0</td>\n",
       "      <td>0</td>\n",
       "      <td>0</td>\n",
       "      <td>0</td>\n",
       "    </tr>\n",
       "    <tr>\n",
       "      <th>1</th>\n",
       "      <td>0</td>\n",
       "      <td>0</td>\n",
       "      <td>0</td>\n",
       "      <td>0</td>\n",
       "      <td>0</td>\n",
       "      <td>0</td>\n",
       "      <td>0</td>\n",
       "      <td>0</td>\n",
       "      <td>0</td>\n",
       "      <td>0</td>\n",
       "      <td>...</td>\n",
       "      <td>0</td>\n",
       "      <td>0</td>\n",
       "      <td>0</td>\n",
       "      <td>0</td>\n",
       "      <td>0</td>\n",
       "      <td>0</td>\n",
       "      <td>0</td>\n",
       "      <td>0</td>\n",
       "      <td>0</td>\n",
       "      <td>0</td>\n",
       "    </tr>\n",
       "    <tr>\n",
       "      <th>2</th>\n",
       "      <td>0</td>\n",
       "      <td>0</td>\n",
       "      <td>0</td>\n",
       "      <td>0</td>\n",
       "      <td>0</td>\n",
       "      <td>0</td>\n",
       "      <td>0</td>\n",
       "      <td>0</td>\n",
       "      <td>0</td>\n",
       "      <td>0</td>\n",
       "      <td>...</td>\n",
       "      <td>0</td>\n",
       "      <td>0</td>\n",
       "      <td>0</td>\n",
       "      <td>0</td>\n",
       "      <td>0</td>\n",
       "      <td>0</td>\n",
       "      <td>0</td>\n",
       "      <td>0</td>\n",
       "      <td>0</td>\n",
       "      <td>0</td>\n",
       "    </tr>\n",
       "    <tr>\n",
       "      <th>3</th>\n",
       "      <td>0</td>\n",
       "      <td>0</td>\n",
       "      <td>0</td>\n",
       "      <td>0</td>\n",
       "      <td>0</td>\n",
       "      <td>0</td>\n",
       "      <td>0</td>\n",
       "      <td>0</td>\n",
       "      <td>0</td>\n",
       "      <td>0</td>\n",
       "      <td>...</td>\n",
       "      <td>0</td>\n",
       "      <td>0</td>\n",
       "      <td>0</td>\n",
       "      <td>0</td>\n",
       "      <td>0</td>\n",
       "      <td>0</td>\n",
       "      <td>0</td>\n",
       "      <td>0</td>\n",
       "      <td>0</td>\n",
       "      <td>0</td>\n",
       "    </tr>\n",
       "    <tr>\n",
       "      <th>4</th>\n",
       "      <td>0</td>\n",
       "      <td>0</td>\n",
       "      <td>0</td>\n",
       "      <td>0</td>\n",
       "      <td>0</td>\n",
       "      <td>0</td>\n",
       "      <td>0</td>\n",
       "      <td>0</td>\n",
       "      <td>0</td>\n",
       "      <td>0</td>\n",
       "      <td>...</td>\n",
       "      <td>0</td>\n",
       "      <td>0</td>\n",
       "      <td>0</td>\n",
       "      <td>0</td>\n",
       "      <td>0</td>\n",
       "      <td>0</td>\n",
       "      <td>0</td>\n",
       "      <td>0</td>\n",
       "      <td>0</td>\n",
       "      <td>0</td>\n",
       "    </tr>\n",
       "  </tbody>\n",
       "</table>\n",
       "<p>5 rows × 784 columns</p>\n",
       "</div>"
      ],
      "text/plain": [
       "   pixel0  pixel1  pixel2  pixel3  pixel4  pixel5  pixel6  pixel7  pixel8  \\\n",
       "0       0       0       0       0       0       0       0       0       0   \n",
       "1       0       0       0       0       0       0       0       0       0   \n",
       "2       0       0       0       0       0       0       0       0       0   \n",
       "3       0       0       0       0       0       0       0       0       0   \n",
       "4       0       0       0       0       0       0       0       0       0   \n",
       "\n",
       "   pixel9  ...  pixel774  pixel775  pixel776  pixel777  pixel778  pixel779  \\\n",
       "0       0  ...         0         0         0         0         0         0   \n",
       "1       0  ...         0         0         0         0         0         0   \n",
       "2       0  ...         0         0         0         0         0         0   \n",
       "3       0  ...         0         0         0         0         0         0   \n",
       "4       0  ...         0         0         0         0         0         0   \n",
       "\n",
       "   pixel780  pixel781  pixel782  pixel783  \n",
       "0         0         0         0         0  \n",
       "1         0         0         0         0  \n",
       "2         0         0         0         0  \n",
       "3         0         0         0         0  \n",
       "4         0         0         0         0  \n",
       "\n",
       "[5 rows x 784 columns]"
      ]
     },
     "execution_count": 6,
     "metadata": {},
     "output_type": "execute_result"
    }
   ],
   "source": [
    "test_data.head()"
   ]
  },
  {
   "cell_type": "code",
   "execution_count": 7,
   "metadata": {
    "execution": {
     "iopub.execute_input": "2023-09-18T16:59:29.061159Z",
     "iopub.status.busy": "2023-09-18T16:59:29.060419Z",
     "iopub.status.idle": "2023-09-18T16:59:29.093815Z",
     "shell.execute_reply": "2023-09-18T16:59:29.092744Z",
     "shell.execute_reply.started": "2023-09-18T16:59:29.061120Z"
    }
   },
   "outputs": [
    {
     "data": {
      "text/plain": [
       "0"
      ]
     },
     "execution_count": 7,
     "metadata": {},
     "output_type": "execute_result"
    }
   ],
   "source": [
    "train_data.isnull().sum().sum()"
   ]
  },
  {
   "cell_type": "code",
   "execution_count": 8,
   "metadata": {
    "execution": {
     "iopub.execute_input": "2023-09-18T16:59:31.711732Z",
     "iopub.status.busy": "2023-09-18T16:59:31.711358Z",
     "iopub.status.idle": "2023-09-18T16:59:32.225502Z",
     "shell.execute_reply": "2023-09-18T16:59:32.224549Z",
     "shell.execute_reply.started": "2023-09-18T16:59:31.711702Z"
    }
   },
   "outputs": [
    {
     "data": {
      "text/plain": [
       "<AxesSubplot:xlabel='label', ylabel='count'>"
      ]
     },
     "execution_count": 8,
     "metadata": {},
     "output_type": "execute_result"
    },
    {
     "data": {
      "image/png": "[encoded data removed]",
      "text/plain": [
       "<Figure size 432x288 with 1 Axes>"
      ]
     },
     "metadata": {
      "needs_background": "light"
     },
     "output_type": "display_data"
    }
   ],
   "source": [
    "plt.figure()\n",
    "sns.countplot(x=train_data.label)"
   ]
  },
  {
   "cell_type": "markdown",
   "metadata": {},
   "source": [
    "# Reshape the data\n",
    "reshape to 28x28 to apply CNN"
   ]
  },
  {
   "cell_type": "code",
   "execution_count": 9,
   "metadata": {
    "execution": {
     "iopub.execute_input": "2023-09-18T16:59:57.212323Z",
     "iopub.status.busy": "2023-09-18T16:59:57.211969Z",
     "iopub.status.idle": "2023-09-18T16:59:57.295640Z",
     "shell.execute_reply": "2023-09-18T16:59:57.294198Z",
     "shell.execute_reply.started": "2023-09-18T16:59:57.212296Z"
    }
   },
   "outputs": [],
   "source": [
    "# drop target and then reshape remaining data\n",
    "train_data_2d=train_data.drop('label', axis=1)\n",
    "train_data_2d=train_data_2d.values.reshape(-1,28,28,1)\n",
    "\n",
    "test_data_2d=test_data.values.reshape(-1,28,28,1)"
   ]
  },
  {
   "cell_type": "code",
   "execution_count": 10,
   "metadata": {
    "execution": {
     "iopub.execute_input": "2023-09-18T17:00:01.972236Z",
     "iopub.status.busy": "2023-09-18T17:00:01.971877Z",
     "iopub.status.idle": "2023-09-18T17:00:02.866483Z",
     "shell.execute_reply": "2023-09-18T17:00:02.865540Z",
     "shell.execute_reply.started": "2023-09-18T17:00:01.972204Z"
    }
   },
   "outputs": [
    {
     "data": {
      "image/png": "[encoded data removed]",
      "text/plain": [
       "<Figure size 72x72 with 1 Axes>"
      ]
     },
     "metadata": {
      "needs_background": "light"
     },
     "output_type": "display_data"
    },
    {
     "data": {
      "image/png": "[encoded data removed]",
      "text/plain": [
       "<Figure size 72x72 with 1 Axes>"
      ]
     },
     "metadata": {
      "needs_background": "light"
     },
     "output_type": "display_data"
    },
    {
     "data": {
      "image/png": "[encoded data removed]",
      "text/plain": [
       "<Figure size 72x72 with 1 Axes>"
      ]
     },
     "metadata": {
      "needs_background": "light"
     },
     "output_type": "display_data"
    },
    {
     "data": {
      "image/png": "[encoded data removed]",
      "text/plain": [
       "<Figure size 72x72 with 1 Axes>"
      ]
     },
     "metadata": {
      "needs_background": "light"
     },
     "output_type": "display_data"
    },
    {
     "data": {
      "image/png": "[encoded data removed]",
      "text/plain": [
       "<Figure size 72x72 with 1 Axes>"
      ]
     },
     "metadata": {
      "needs_background": "light"
     },
     "output_type": "display_data"
    }
   ],
   "source": [
    "for i in range(5):\n",
    "    plt.figure(figsize=(1,1))\n",
    "    plt.imshow(train_data_2d[i])\n",
    "    plt.show()"
   ]
  },
  {
   "cell_type": "code",
   "execution_count": 11,
   "metadata": {
    "execution": {
     "iopub.execute_input": "2023-09-18T17:00:08.981481Z",
     "iopub.status.busy": "2023-09-18T17:00:08.981118Z",
     "iopub.status.idle": "2023-09-18T17:00:08.989487Z",
     "shell.execute_reply": "2023-09-18T17:00:08.988407Z",
     "shell.execute_reply.started": "2023-09-18T17:00:08.981452Z"
    }
   },
   "outputs": [
    {
     "data": {
      "text/plain": [
       "0    1\n",
       "1    0\n",
       "2    1\n",
       "3    4\n",
       "4    0\n",
       "Name: label, dtype: int64"
      ]
     },
     "execution_count": 11,
     "metadata": {},
     "output_type": "execute_result"
    }
   ],
   "source": [
    "train_data.label[:5]"
   ]
  },
  {
   "cell_type": "markdown",
   "metadata": {},
   "source": [
    "# Splitting Data"
   ]
  },
  {
   "cell_type": "code",
   "execution_count": 12,
   "metadata": {
    "execution": {
     "iopub.execute_input": "2023-09-18T17:00:19.904171Z",
     "iopub.status.busy": "2023-09-18T17:00:19.903468Z",
     "iopub.status.idle": "2023-09-18T17:00:19.908868Z",
     "shell.execute_reply": "2023-09-18T17:00:19.907676Z",
     "shell.execute_reply.started": "2023-09-18T17:00:19.904136Z"
    }
   },
   "outputs": [],
   "source": [
    "X = train_data_2d\n",
    "y = train_data.label\n",
    "\n",
    "X_test = test_data_2d"
   ]
  },
  {
   "cell_type": "code",
   "execution_count": 13,
   "metadata": {
    "execution": {
     "iopub.execute_input": "2023-09-18T17:00:21.713112Z",
     "iopub.status.busy": "2023-09-18T17:00:21.712748Z",
     "iopub.status.idle": "2023-09-18T17:00:21.885652Z",
     "shell.execute_reply": "2023-09-18T17:00:21.884190Z",
     "shell.execute_reply.started": "2023-09-18T17:00:21.713084Z"
    }
   },
   "outputs": [],
   "source": [
    "# Normalize the data\n",
    "X = X/255.0\n",
    "X_test = X_test/255.0"
   ]
  },
  {
   "cell_type": "code",
   "execution_count": 14,
   "metadata": {
    "execution": {
     "iopub.execute_input": "2023-09-18T17:00:23.330865Z",
     "iopub.status.busy": "2023-09-18T17:00:23.330268Z",
     "iopub.status.idle": "2023-09-18T17:00:23.720038Z",
     "shell.execute_reply": "2023-09-18T17:00:23.719039Z",
     "shell.execute_reply.started": "2023-09-18T17:00:23.330821Z"
    }
   },
   "outputs": [],
   "source": [
    "X_train, X_valid, y_train, y_valid = train_test_split(X, y, train_size=0.8, test_size=0.2, random_state=0)"
   ]
  },
  {
   "cell_type": "code",
   "execution_count": 15,
   "metadata": {
    "execution": {
     "iopub.execute_input": "2023-09-18T17:00:25.044579Z",
     "iopub.status.busy": "2023-09-18T17:00:25.044222Z",
     "iopub.status.idle": "2023-09-18T17:00:25.055177Z",
     "shell.execute_reply": "2023-09-18T17:00:25.054181Z",
     "shell.execute_reply.started": "2023-09-18T17:00:25.044550Z"
    }
   },
   "outputs": [
    {
     "data": {
      "text/plain": [
       "(33600, 28, 28, 1)"
      ]
     },
     "execution_count": 15,
     "metadata": {},
     "output_type": "execute_result"
    }
   ],
   "source": [
    "train_shape = X_train.shape\n",
    "train_shape"
   ]
  },
  {
   "cell_type": "code",
   "execution_count": 16,
   "metadata": {
    "execution": {
     "iopub.execute_input": "2023-09-18T17:00:26.497577Z",
     "iopub.status.busy": "2023-09-18T17:00:26.497210Z",
     "iopub.status.idle": "2023-09-18T17:00:26.504337Z",
     "shell.execute_reply": "2023-09-18T17:00:26.503359Z",
     "shell.execute_reply.started": "2023-09-18T17:00:26.497548Z"
    }
   },
   "outputs": [
    {
     "data": {
      "text/plain": [
       "(33600,)"
      ]
     },
     "execution_count": 16,
     "metadata": {},
     "output_type": "execute_result"
    }
   ],
   "source": [
    "y_train.shape"
   ]
  },
  {
   "cell_type": "markdown",
   "metadata": {},
   "source": [
    "# Modeling"
   ]
  },
  {
   "cell_type": "code",
   "execution_count": 17,
   "metadata": {
    "execution": {
     "iopub.execute_input": "2023-09-18T17:00:29.432030Z",
     "iopub.status.busy": "2023-09-18T17:00:29.431668Z",
     "iopub.status.idle": "2023-09-18T17:00:32.552629Z",
     "shell.execute_reply": "2023-09-18T17:00:32.551870Z",
     "shell.execute_reply.started": "2023-09-18T17:00:29.432002Z"
    }
   },
   "outputs": [
    {
     "name": "stdout",
     "output_type": "stream",
     "text": [
      "Model: \"sequential\"\n",
      "_________________________________________________________________\n",
      " Layer (type)                Output Shape              Param #   \n",
      "=================================================================\n",
      " conv2d (Conv2D)             (None, 28, 28, 32)        320       \n",
      "                                                                 \n",
      " max_pooling2d (MaxPooling2  (None, 14, 14, 32)        0         \n",
      " D)                                                              \n",
      "                                                                 \n",
      " conv2d_1 (Conv2D)           (None, 14, 14, 32)        9248      \n",
      "                                                                 \n",
      " max_pooling2d_1 (MaxPoolin  (None, 7, 7, 32)          0         \n",
      " g2D)                                                            \n",
      "                                                                 \n",
      " flatten (Flatten)           (None, 1568)              0         \n",
      "                                                                 \n",
      " dense (Dense)               (None, 64)                100416    \n",
      "                                                                 \n",
      " dense_1 (Dense)             (None, 10)                650       \n",
      "                                                                 \n",
      "=================================================================\n",
      "Total params: 110634 (432.16 KB)\n",
      "Trainable params: 110634 (432.16 KB)\n",
      "Non-trainable params: 0 (0.00 Byte)\n",
      "_________________________________________________________________\n"
     ]
    }
   ],
   "source": [
    "model = keras.Sequential([\n",
    "#     CNN base\n",
    "    layers.Conv2D(filters=32, kernel_size=(3,3), activation='relu', input_shape=(28,28,1), padding='same'),\n",
    "    layers.MaxPooling2D(2,2),\n",
    "    \n",
    "    layers.Conv2D(filters=32, kernel_size=(3,3), activation='relu', padding='same'),\n",
    "    layers.MaxPooling2D(2,2),\n",
    "#     dense head\n",
    "    layers.Flatten(),\n",
    "    layers.Dense(64, activation='relu'),\n",
    "    layers.Dense(10, activation='softmax'),\n",
    "])\n",
    "\n",
    "model.summary()"
   ]
  },
  {
   "cell_type": "code",
   "execution_count": 18,
   "metadata": {
    "execution": {
     "iopub.execute_input": "2023-09-18T17:00:59.246167Z",
     "iopub.status.busy": "2023-09-18T17:00:59.245502Z",
     "iopub.status.idle": "2023-09-18T17:00:59.269476Z",
     "shell.execute_reply": "2023-09-18T17:00:59.268525Z",
     "shell.execute_reply.started": "2023-09-18T17:00:59.246136Z"
    }
   },
   "outputs": [],
   "source": [
    "model.compile(\n",
    "    optimizer='adam',\n",
    "    loss='sparse_categorical_crossentropy',\n",
    "    metrics=['accuracy'],\n",
    ")"
   ]
  },
  {
   "cell_type": "code",
   "execution_count": 19,
   "metadata": {
    "execution": {
     "iopub.execute_input": "2023-09-18T17:01:01.558736Z",
     "iopub.status.busy": "2023-09-18T17:01:01.558345Z",
     "iopub.status.idle": "2023-09-18T17:02:12.463751Z",
     "shell.execute_reply": "2023-09-18T17:02:12.462809Z",
     "shell.execute_reply.started": "2023-09-18T17:01:01.558706Z"
    }
   },
   "outputs": [
    {
     "name": "stdout",
     "output_type": "stream",
     "text": [
      "Epoch 1/15\n",
      "1050/1050 [==============================] - 15s 10ms/step - loss: 0.2010 - accuracy: 0.9385 - val_loss: 0.0761 - val_accuracy: 0.9748\n",
      "Epoch 2/15\n",
      "1050/1050 [==============================] - 10s 9ms/step - loss: 0.0601 - accuracy: 0.9812 - val_loss: 0.0504 - val_accuracy: 0.9844\n",
      "Epoch 3/15\n",
      "1050/1050 [==============================] - 10s 9ms/step - loss: 0.0410 - accuracy: 0.9870 - val_loss: 0.0585 - val_accuracy: 0.9835\n",
      "Epoch 4/15\n",
      "1050/1050 [==============================] - 10s 10ms/step - loss: 0.0312 - accuracy: 0.9901 - val_loss: 0.0428 - val_accuracy: 0.9865\n",
      "Epoch 5/15\n",
      "1050/1050 [==============================] - 10s 10ms/step - loss: 0.0229 - accuracy: 0.9926 - val_loss: 0.0467 - val_accuracy: 0.9854\n",
      "Epoch 6/15\n",
      "1050/1050 [==============================] - 10s 10ms/step - loss: 0.0192 - accuracy: 0.9940 - val_loss: 0.0449 - val_accuracy: 0.9880\n",
      "Epoch 7/15\n",
      "1050/1050 [==============================] - 10s 10ms/step - loss: 0.0151 - accuracy: 0.9949 - val_loss: 0.0483 - val_accuracy: 0.9867\n",
      "Epoch 8/15\n",
      "1050/1050 [==============================] - 10s 10ms/step - loss: 0.0142 - accuracy: 0.9951 - val_loss: 0.0506 - val_accuracy: 0.9875\n",
      "Epoch 9/15\n",
      "1050/1050 [==============================] - 10s 10ms/step - loss: 0.0086 - accuracy: 0.9974 - val_loss: 0.0526 - val_accuracy: 0.9867\n",
      "Epoch 10/15\n",
      "1050/1050 [==============================] - 10s 10ms/step - loss: 0.0093 - accuracy: 0.9968 - val_loss: 0.0525 - val_accuracy: 0.9874\n",
      "Epoch 11/15\n",
      "1050/1050 [==============================] - 10s 10ms/step - loss: 0.0084 - accuracy: 0.9970 - val_loss: 0.0455 - val_accuracy: 0.9898\n",
      "Epoch 12/15\n",
      "1050/1050 [==============================] - 10s 10ms/step - loss: 0.0059 - accuracy: 0.9981 - val_loss: 0.0780 - val_accuracy: 0.9858\n",
      "Epoch 13/15\n",
      "1050/1050 [==============================] - 11s 10ms/step - loss: 0.0064 - accuracy: 0.9978 - val_loss: 0.0526 - val_accuracy: 0.9879\n",
      "Epoch 14/15\n",
      "1050/1050 [==============================] - 11s 11ms/step - loss: 0.0058 - accuracy: 0.9981 - val_loss: 0.0706 - val_accuracy: 0.9856\n",
      "Epoch 15/15\n",
      "1050/1050 [==============================] - 10s 10ms/step - loss: 0.0060 - accuracy: 0.9980 - val_loss: 0.0744 - val_accuracy: 0.9867\n"
     ]
    }
   ],
   "source": [
    "history = model.fit(\n",
    "    X_train, y_train,\n",
    "    validation_data=(X_valid, y_valid),\n",
    "#     callbacks=[early_stopping],\n",
    "    epochs=15,\n",
    ")"
   ]
  },
  {
   "cell_type": "code",
   "execution_count": 20,
   "metadata": {
    "execution": {
     "iopub.execute_input": "2023-09-18T17:02:50.735465Z",
     "iopub.status.busy": "2023-09-18T17:02:50.735097Z",
     "iopub.status.idle": "2023-09-18T17:02:51.330949Z",
     "shell.execute_reply": "2023-09-18T17:02:51.329861Z",
     "shell.execute_reply.started": "2023-09-18T17:02:50.735436Z"
    }
   },
   "outputs": [
    {
     "name": "stdout",
     "output_type": "stream",
     "text": [
      "Best Validation Loss: 0.0428\n",
      "Best Validation Accuracy: 0.9898\n"
     ]
    },
    {
     "data": {
      "image/png": "[encoded data removed]",
      "text/plain": [
       "<Figure size 432x288 with 1 Axes>"
      ]
     },
     "metadata": {
      "needs_background": "light"
     },
     "output_type": "display_data"
    },
    {
     "data": {
      "image/png": "[encoded data removed]",
      "text/plain": [
       "<Figure size 432x288 with 1 Axes>"
      ]
     },
     "metadata": {
      "needs_background": "light"
     },
     "output_type": "display_data"
    }
   ],
   "source": [
    "history_df = pd.DataFrame(history.history)\n",
    "# Start the plot at epoch 5\n",
    "history_df.loc[:,['loss', 'val_loss']].plot()\n",
    "history_df.loc[:, ['accuracy', 'val_accuracy']].plot()\n",
    "\n",
    "print((\"Best Validation Loss: {:0.4f}\" +\\\n",
    "      \"\\nBest Validation Accuracy: {:0.4f}\")\\\n",
    "      .format(history_df['val_loss'].min(), \n",
    "              history_df['val_accuracy'].max()))"
   ]
  },
  {
   "cell_type": "markdown",
   "metadata": {},
   "source": [
    "# Confusion Matrix"
   ]
  },
  {
   "cell_type": "code",
   "execution_count": 21,
   "metadata": {
    "execution": {
     "iopub.execute_input": "2023-09-18T17:03:08.007066Z",
     "iopub.status.busy": "2023-09-18T17:03:08.006692Z",
     "iopub.status.idle": "2023-09-18T17:03:08.869355Z",
     "shell.execute_reply": "2023-09-18T17:03:08.867569Z",
     "shell.execute_reply.started": "2023-09-18T17:03:08.007036Z"
    }
   },
   "outputs": [
    {
     "name": "stdout",
     "output_type": "stream",
     "text": [
      "263/263 [==============================] - 1s 3ms/step\n"
     ]
    },
    {
     "data": {
      "text/plain": [
       "<tf.Tensor: shape=(10, 10), dtype=int32, numpy=\n",
       "array([[801,   0,   2,   0,   0,   0,  10,   0,   0,   0],\n",
       "       [  0, 956,   1,   1,   0,   0,   1,   1,   1,   0],\n",
       "       [  0,   0, 852,   1,   0,   0,   3,   4,   0,   0],\n",
       "       [  0,   0,   0, 856,   0,   4,   0,   1,   0,   2],\n",
       "       [  1,   4,   0,   0, 814,   0,   2,   3,   0,   3],\n",
       "       [  0,   0,   2,   7,   0, 743,   4,   0,   0,   0],\n",
       "       [  0,   0,   0,   0,   1,   0, 840,   0,   0,   0],\n",
       "       [  0,   1,   3,   1,   0,   1,   0, 893,   0,   0],\n",
       "       [  1,   2,   2,   6,   1,   4,  13,   0, 736,   3],\n",
       "       [  1,   0,   1,   0,   5,   3,   0,   4,   1, 797]])>"
      ]
     },
     "execution_count": 21,
     "metadata": {},
     "output_type": "execute_result"
    }
   ],
   "source": [
    "pred = model.predict(X_valid)\n",
    "pred_valid = pd.DataFrame([np.argmax(i) for i in pred])\n",
    "cm = tf.math.confusion_matrix(labels=y_valid,predictions=pred_valid)\n",
    "cm"
   ]
  },
  {
   "cell_type": "code",
   "execution_count": 22,
   "metadata": {
    "execution": {
     "iopub.execute_input": "2023-09-18T17:03:13.749350Z",
     "iopub.status.busy": "2023-09-18T17:03:13.748466Z",
     "iopub.status.idle": "2023-09-18T17:03:14.322192Z",
     "shell.execute_reply": "2023-09-18T17:03:14.321303Z",
     "shell.execute_reply.started": "2023-09-18T17:03:13.749305Z"
    }
   },
   "outputs": [
    {
     "data": {
      "text/plain": [
       "<AxesSubplot:>"
      ]
     },
     "execution_count": 22,
     "metadata": {},
     "output_type": "execute_result"
    },
    {
     "data": {
      "image/png": "[encoded data removed]",
      "text/plain": [
       "<Figure size 432x288 with 2 Axes>"
      ]
     },
     "metadata": {
      "needs_background": "light"
     },
     "output_type": "display_data"
    }
   ],
   "source": [
    "plt.figure()\n",
    "sns.heatmap(cm, annot=True,fmt='d')"
   ]
  },
  {
   "cell_type": "markdown",
   "metadata": {},
   "source": [
    "# Predictions\n",
    "predictions on test data"
   ]
  },
  {
   "cell_type": "code",
   "execution_count": 42,
   "metadata": {
    "execution": {
     "iopub.execute_input": "2023-09-18T17:05:22.731633Z",
     "iopub.status.busy": "2023-09-18T17:05:22.731225Z",
     "iopub.status.idle": "2023-09-18T17:05:25.230851Z",
     "shell.execute_reply": "2023-09-18T17:05:25.229835Z",
     "shell.execute_reply.started": "2023-09-18T17:05:22.731583Z"
    }
   },
   "outputs": [
    {
     "name": "stdout",
     "output_type": "stream",
     "text": [
      "875/875 [==============================] - 2s 3ms/step\n"
     ]
    }
   ],
   "source": [
    "preds = model.predict(X_test)\n",
    "predictions = [np.argmax(i) for i in preds]\n",
    "predictions = pd.Series(predictions,name=\"Label\")"
   ]
  },
  {
   "cell_type": "code",
   "execution_count": 24,
   "metadata": {
    "execution": {
     "iopub.execute_input": "2023-09-18T17:05:27.147027Z",
     "iopub.status.busy": "2023-09-18T17:05:27.146288Z",
     "iopub.status.idle": "2023-09-18T17:05:27.210000Z",
     "shell.execute_reply": "2023-09-18T17:05:27.208998Z",
     "shell.execute_reply.started": "2023-09-18T17:05:27.146996Z"
    }
   },
   "outputs": [],
   "source": [
    "output = pd.concat([pd.Series(range(1,28001),name = \"ImageId\"),predictions],axis = 1)\n",
    "\n",
    "output.to_csv(\"submission.csv\",index=False)"
   ]
  },
  {
   "cell_type": "code",
   "execution_count": 26,
   "metadata": {},
   "outputs": [],
   "source": [
    "model.save_weights('model_weights.h5')"
   ]
  },
  {
   "cell_type": "code",
   "execution_count": 28,
   "metadata": {},
   "outputs": [
    {
     "name": "stdout",
     "output_type": "stream",
     "text": [
      "875/875 [==============================] - 3s 3ms/step\n"
     ]
    }
   ],
   "source": [
    "# Load the model architecture (assuming you have it saved as well)\n",
    "from tensorflow.keras.models import load_model\n",
    "\n",
    "# Create a new instance of your model (with the same architecture)\n",
    "model = keras.Sequential([\n",
    "#     CNN base\n",
    "    layers.Conv2D(filters=32, kernel_size=(3,3), activation='relu', input_shape=(28,28,1), padding='same'),\n",
    "    layers.MaxPooling2D(2,2),\n",
    "    \n",
    "    layers.Conv2D(filters=32, kernel_size=(3,3), activation='relu', padding='same'),\n",
    "    layers.MaxPooling2D(2,2),\n",
    "#     dense head\n",
    "    layers.Flatten(),\n",
    "    layers.Dense(64, activation='relu'),\n",
    "    layers.Dense(10, activation='softmax'),\n",
    "])\n",
    "  # Replace 'create_model' with the code to create your model\n",
    "\n",
    "# Load the saved weights into the model\n",
    "model.load_weights('model_weights.h5')\n",
    "\n",
    "# Now, you can use this model for prediction as needed\n",
    "preds = model.predict(X_test)\n",
    "predictions = [np.argmax(i) for i in preds]\n",
    "predictions = pd.Series(predictions,name=\"Label\")\n"
   ]
  },
  {
   "cell_type": "code",
   "execution_count": 29,
   "metadata": {},
   "outputs": [
    {
     "data": {
      "text/plain": [
       "array([[2.39829535e-14, 1.50687426e-16, 1.00000000e+00, ...,\n",
       "        1.27296728e-14, 1.54173728e-17, 3.18902179e-14],\n",
       "       [1.00000000e+00, 7.17434789e-16, 1.65971716e-11, ...,\n",
       "        1.25727147e-13, 1.03300358e-15, 4.20482659e-12],\n",
       "       [1.58273398e-19, 8.31320960e-14, 4.22713461e-11, ...,\n",
       "        3.13790525e-13, 1.57981660e-07, 9.99999762e-01],\n",
       "       ...,\n",
       "       [1.24036695e-32, 2.16744569e-20, 1.19257935e-27, ...,\n",
       "        1.50767895e-24, 8.93378967e-18, 1.33199184e-13],\n",
       "       [4.46886849e-18, 2.82670263e-13, 7.12252861e-14, ...,\n",
       "        3.25452554e-10, 2.14936402e-09, 9.99990225e-01],\n",
       "       [4.81815475e-16, 1.65909974e-15, 1.00000000e+00, ...,\n",
       "        1.24226966e-11, 4.60613446e-16, 1.15066366e-15]], dtype=float32)"
      ]
     },
     "execution_count": 29,
     "metadata": {},
     "output_type": "execute_result"
    }
   ],
   "source": [
    "predictions"
   ]
  },
  {
   "cell_type": "code",
   "execution_count": 43,
   "metadata": {},
   "outputs": [
    {
     "data": {
      "image/png": "[encoded data removed]",
      "text/plain": [
       "<Figure size 576x576 with 100 Axes>"
      ]
     },
     "metadata": {},
     "output_type": "display_data"
    }
   ],
   "source": [
    "import matplotlib.pyplot as plt\n",
    "\n",
    "fig, axes = plt.subplots(10, 10, figsize=(8, 8),\n",
    "                         subplot_kw={'xticks':[], 'yticks':[]},\n",
    "                         gridspec_kw=dict(hspace=0.1, wspace=0.1))\n",
    "\n",
    "# Assuming you have 'predictions' as a list of predicted labels\n",
    "# Modify 'X_test' if needed to match your variable names\n",
    "for i, ax in enumerate(axes.flat):\n",
    "    ax.imshow(X_test[i].reshape(28, 28), cmap='binary', interpolation='nearest')\n",
    "    ax.text(0.05, 0.05, str(predictions[i]),transform=ax.transAxes, color='green')\n",
    "\n",
    "plt.show()\n"
   ]
  },
  {
   "cell_type": "code",
   "execution_count": null,
   "metadata": {},
   "outputs": [],
   "source": []
  }
 ],
 "metadata": {
  "kernelspec": {
   "display_name": "Python 3 (ipykernel)",
   "language": "python",
   "name": "python3"
  },
  "language_info": {
   "codemirror_mode": {
    "name": "ipython",
    "version": 3
   },
   "file_extension": ".py",
   "mimetype": "text/x-python",
   "name": "python",
   "nbconvert_exporter": "python",
   "pygments_lexer": "ipython3",
   "version": "3.9.12"
  }
 },
 "nbformat": 4,
 "nbformat_minor": 4
}
